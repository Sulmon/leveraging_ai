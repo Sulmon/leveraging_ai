{
 "cells": [
  {
   "cell_type": "code",
   "execution_count": 1,
   "id": "8d9843df",
   "metadata": {},
   "outputs": [],
   "source": [
    "#coding a class that implement self attention\n",
    "import torch\n",
    "import torch.nn as nn\n",
    "import torch.nn.functional as F"
   ]
  },
  {
   "cell_type": "code",
   "execution_count": null,
   "id": "95263f50",
   "metadata": {},
   "outputs": [],
   "source": [
    "class SelfAttention (nn.Module):\n",
    "    #nn.module is the baseClass for every model in pytorch\n",
    "    def __init__(self, d_model=2, row_dim=0,col_dim=1):\n",
    "        "
   ]
  }
 ],
 "metadata": {
  "kernelspec": {
   "display_name": "Python 3",
   "language": "python",
   "name": "python3"
  },
  "language_info": {
   "codemirror_mode": {
    "name": "ipython",
    "version": 3
   },
   "file_extension": ".py",
   "mimetype": "text/x-python",
   "name": "python",
   "nbconvert_exporter": "python",
   "pygments_lexer": "ipython3",
   "version": "3.12.1"
  }
 },
 "nbformat": 4,
 "nbformat_minor": 5
}
